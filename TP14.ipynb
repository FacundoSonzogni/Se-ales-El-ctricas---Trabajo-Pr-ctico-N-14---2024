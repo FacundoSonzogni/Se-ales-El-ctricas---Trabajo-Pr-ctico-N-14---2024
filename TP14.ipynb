{
 "cells": [
  {
   "cell_type": "code",
   "execution_count": null,
   "metadata": {},
   "outputs": [],
   "source": [
    "import matplotlib.pyplot as plt\n",
    "import numpy as np\n",
    "from IPython.display import Audio\n",
    "from math import pi\n",
    "import scipy.signal\n",
    "import serial"
   ]
  },
  {
   "cell_type": "code",
   "execution_count": null,
   "metadata": {},
   "outputs": [],
   "source": [
    "f_seno = 2000 #[Hz]\n",
    "A = 1 #[V] Amplitud\n",
    "f_muestreo = 10*f_seno\n",
    "duracion = 5 #[s]\n",
    "\n",
    "eje_t = np.linspace(0, duracion, num=int(f_muestreo * duracion))\n",
    "\n",
    "seno = []\n",
    "for t in eje_t:\n",
    "  valor = A * np.sin(2*pi*f_seno*t)\n",
    "  seno.append(valor)\n",
    "\n",
    "\n",
    "Audio(seno, rate=f_muestreo)"
   ]
  },
  {
   "cell_type": "code",
   "execution_count": null,
   "metadata": {},
   "outputs": [],
   "source": [
    "f_sqr = 2000 #[Hz]\n",
    "duty = 0.2\n",
    "f_m = 10*f_sqr\n",
    "\n",
    "eje_x = np.linspace(0, duracion, num=int(f_m * duracion))\n",
    "\n",
    "sqr = scipy.signal.square(2*pi*f_sqr*eje_x, duty)\n",
    "\n",
    "\n",
    "#fig = plt.gcf()\n",
    "#fig.set_size_inches(18.5, 10.5)\n",
    "\n",
    "#plt.plot(eje_x, sqr)\n",
    "#plt.xlabel(\"Tiempo [s]\")\n",
    "#plt.ylabel(\"V(t) [V]\")\n",
    "#plt.show()\n",
    "\n",
    "Audio(sqr, rate=f_m)"
   ]
  }
 ],
 "metadata": {
  "kernelspec": {
   "display_name": "Python 3.8.10 64-bit",
   "language": "python",
   "name": "python3"
  },
  "language_info": {
   "codemirror_mode": {
    "name": "ipython",
    "version": 3
   },
   "file_extension": ".py",
   "mimetype": "text/x-python",
   "name": "python",
   "nbconvert_exporter": "python",
   "pygments_lexer": "ipython3",
   "version": "3.8.10"
  },
  "orig_nbformat": 4,
  "vscode": {
   "interpreter": {
    "hash": "8501c3864ce2756e53fbfbbeac09c51f3e508db89f32b4320cecebb85a9a63c9"
   }
  }
 },
 "nbformat": 4,
 "nbformat_minor": 2
}
